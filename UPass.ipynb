{
 "cells": [
  {
   "cell_type": "code",
   "execution_count": 13,
   "metadata": {},
   "outputs": [
    {
     "name": "stdout",
     "output_type": "stream",
     "text": [
      "[]\n",
      "There is no new request\n"
     ]
    }
   ],
   "source": [
    "import requests\n",
    "import json\n",
    "from lxml import html, etree\n",
    "\n",
    "r = requests.Session()\n",
    "\n",
    "# get upassbc website\n",
    "r1 = r.get('https://upassbc.translink.ca/')\n",
    "assert(r1.status_code == 200)\n",
    "assert(r1.url == 'https://upassbc.translink.ca/')\n",
    "\n",
    "# select school, default here sfu\n",
    "r2 = r.post('https://upassbc.translink.ca/', data={'PsiId':'sfu'})\n",
    "assert(r2.status_code == 200)\n",
    "assert(r2.url.startswith('https://cas.sfu.ca/cas/login'))\n",
    "\n",
    "# parse signin form, get all the hidden fields, combined them with username and password in the config file\n",
    "tree = html.fromstring(r2.content)\n",
    "form = tree.find('.//form[@class=\"signin-form\"]')\n",
    "hidden_fields = form.findall('.//input[@type=\"hidden\"]')\n",
    "with open('config.json') as config:    \n",
    "    data = json.load(config)\n",
    "for hidden_field in hidden_fields:\n",
    "    data[hidden_field.name] = hidden_field.value\n",
    "# signin post request\n",
    "r3 = r.post('https://cas.sfu.ca' + form.action, data=data)\n",
    "assert(r3.status_code == 200)\n",
    "assert(r3.url.startswith('https://idp.sfu.ca/idp/profile'))\n",
    "\n",
    "# below request r4 and r5 are due to python requests library doesn't load javascript in the webpage,\n",
    "# there are javascript to automatically submit those two forms in the webpage, here we mannally do it\n",
    "tree = html.fromstring(r3.content)\n",
    "form = tree.find('.//form')\n",
    "fields = form.findall('.//input')\n",
    "data = {}\n",
    "for field in fields:\n",
    "    data[field.name] = field.value\n",
    "r4 = r.post('https://upassadfs.translink.ca/adfs/ls/', data=data)\n",
    "assert(r4.status_code == 200)\n",
    "assert(r4.url == 'https://upassadfs.translink.ca/adfs/ls/')\n",
    "\n",
    "tree = html.fromstring(r4.content)\n",
    "form = tree.find('.//form')\n",
    "fields = form.findall('.//input')\n",
    "data = {}\n",
    "for field in fields:\n",
    "    data[field.name] = field.value\n",
    "r5 = r.post('https://upassbc.translink.ca/fs/', data=data)\n",
    "assert(r5.status_code == 200)\n",
    "assert(r5.url == 'https://upassbc.translink.ca/fs/')\n",
    "\n",
    "# check if there are new month eligibility need to request\n",
    "tree = html.fromstring(r5.content)\n",
    "form = tree.find('.//form[@action=\"/fs/Eligibility/Request\"]')\n",
    "hidden_fields = form.findall('.//input[@type=\"hidden\"]')\n",
    "checkbox_fields = form.findall('.//input[@type=\"checkbox\"]')\n",
    "data = {}\n",
    "for hidden_field in hidden_fields:\n",
    "    data[hidden_field.name] = hidden_field.value\n",
    "for checkbox_field in checkbox_fields:\n",
    "    data[checkbox_field.name] = 'true'\n",
    "if len(checkbox_fields) == 0:\n",
    "    print('There is no new request')\n",
    "else:\n",
    "    # request eligibility\n",
    "    print('Request new month eligibility')\n",
    "    r6 = r.post('https://upassbc.translink.ca/fs/Eligibility/Request/', data=data)\n",
    "    assert(r6.status_code == 200)\n",
    "    # print(r6.url)\n",
    "    # assert(r6.url.startswith('https://upassbc.translink.ca/'))\n",
    "    \n",
    "    # check if we request successful\n",
    "    tree = html.fromstring(r6.content)\n",
    "    form = tree.find('.//form[@action=\"/fs/Eligibility/Request\"]')\n",
    "    checkbox_fields = form.findall('.//input[@type=\"checkbox\"]')\n",
    "    if len(checkbox_fields) == 0:\n",
    "        print('Request successful')\n",
    "    else:\n",
    "        print('Request failed')"
   ]
  },
  {
   "cell_type": "code",
   "execution_count": null,
   "metadata": {},
   "outputs": [],
   "source": []
  }
 ],
 "metadata": {
  "kernelspec": {
   "display_name": "Python 3",
   "language": "python",
   "name": "python3"
  },
  "language_info": {
   "codemirror_mode": {
    "name": "ipython",
    "version": 3
   },
   "file_extension": ".py",
   "mimetype": "text/x-python",
   "name": "python",
   "nbconvert_exporter": "python",
   "pygments_lexer": "ipython3",
   "version": "3.6.3"
  }
 },
 "nbformat": 4,
 "nbformat_minor": 2
}
